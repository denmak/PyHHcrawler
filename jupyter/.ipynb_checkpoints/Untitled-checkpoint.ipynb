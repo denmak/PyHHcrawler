{
 "cells": [
  {
   "cell_type": "code",
   "execution_count": 1,
   "metadata": {
    "collapsed": false
   },
   "outputs": [
    {
     "name": "stdout",
     "output_type": "stream",
     "text": [
      "welcome\n"
     ]
    }
   ],
   "source": [
    "print(\"welcome\")"
   ]
  },
  {
   "cell_type": "markdown",
   "metadata": {},
   "source": [
    "## example"
   ]
  },
  {
   "cell_type": "code",
   "execution_count": 40,
   "metadata": {
    "collapsed": false
   },
   "outputs": [
    {
     "name": "stdout",
     "output_type": "stream",
     "text": [
      "Найдено 4 280 вакансий\n",
      "2   4280 Java http://hh.ru/search/vacancy?text=Java&enable_snippets=true&clusters=true\n",
      "Найдено 5 972 вакансии\n",
      "3   5972 JavaScript http://hh.ru/search/vacancy?text=JavaScript&enable_snippets=true&clusters=true\n",
      "Найдено 3 484 вакансии\n",
      "4   3484 php http://hh.ru/search/vacancy?text=php&enable_snippets=true&clusters=true\n",
      "Найдено 10 065 вакансий\n",
      "5   10065 C   http://hh.ru/search/vacancy?text=C++&enable_snippets=true&clusters=true\n",
      "Найдено 10 065 вакансий\n",
      "6   10065 C http://hh.ru/search/vacancy?text=C#&enable_snippets=true&clusters=true\n",
      "Найдено 2 319 вакансий\n",
      "7   2319 Python http://hh.ru/search/vacancy?text=Python&enable_snippets=true&clusters=true\n",
      "Найдено 739 вакансий\n",
      "8   739 Ruby http://hh.ru/search/vacancy?text=Ruby&enable_snippets=true&clusters=true\n",
      "Найдено 7 310 вакансий\n",
      "9   7310 SQL http://hh.ru/search/vacancy?text=SQL&enable_snippets=true&clusters=true\n",
      "Найдено 252 вакансии\n",
      "10   252 Scala http://hh.ru/search/vacancy?text=Scala&enable_snippets=true&clusters=true\n",
      "Найдено 365 вакансий\n",
      "11   365 Go http://hh.ru/search/vacancy?text=Go&enable_snippets=true&clusters=true\n"
     ]
    }
   ],
   "source": [
    "import  csv\n",
    "from urllib.parse import urlparse\n",
    "from urllib.parse import parse_qs\n",
    "from urllib.parse import urlencode\n",
    "import re\n",
    "\n",
    "with open('C:\\\\Users\\\\Acer\\\\Downloads\\\\hh37thMar23_05.csv',encoding='utf-8') as csvfile:\n",
    "        readcsv = csv.reader(csvfile,delimiter = ',')\n",
    "        i =1\n",
    "        for row in readcsv:\n",
    "            if i>1:\n",
    "                print(row[2])\n",
    "                url = row[5]\n",
    "                o = urlparse(url)\n",
    "                query = parse_qs(o.query)\n",
    "                regex=  re.compile('\\d+')\n",
    "                print(i,' ',regex.findall(row[2].replace(' ',''))[0],query.get('text')[0],row[5])\n",
    "            i=i+1\n",
    " "
   ]
  },
  {
   "cell_type": "code",
   "execution_count": null,
   "metadata": {
    "collapsed": true
   },
   "outputs": [],
   "source": []
  }
 ],
 "metadata": {
  "kernelspec": {
   "display_name": "Python 3",
   "language": "python",
   "name": "python3"
  },
  "language_info": {
   "codemirror_mode": {
    "name": "ipython",
    "version": 3
   },
   "file_extension": ".py",
   "mimetype": "text/x-python",
   "name": "python",
   "nbconvert_exporter": "python",
   "pygments_lexer": "ipython3",
   "version": "3.5.1"
  }
 },
 "nbformat": 4,
 "nbformat_minor": 0
}
